{
 "cells": [
  {
   "cell_type": "markdown",
   "id": "d7f5257d",
   "metadata": {},
   "source": [
    "## 1. To what does a relative path refer?\n",
    "\n",
    "Answer: A relative path refers to the location of a file or directory\n",
    "in relation to the current working directory. It does not specify the complete path from the root directory but provides a path relative to the directory where the program or script is executed.\n"
   ]
  },
  {
   "cell_type": "markdown",
   "id": "1f4a52d5",
   "metadata": {},
   "source": [
    "## 2. What does an absolute path start with your operating system?\n",
    "   Answer: An absolute path starts with the root directory of the operating system.\n",
    "On Windows, it typically starts with a drive letter (e.g., \"C:\\\") followed by a series of \n",
    "directories and subdirectories, separated by backslashes (\"\\\"). On Unix-like systems\n",
    "(including Linux and macOS), it starts with a forward slash (\"/\") and includes the full directory path from the root.\n"
   ]
  },
  {
   "cell_type": "markdown",
   "id": "aad1205a",
   "metadata": {},
   "source": [
    "## 3. What do the functions `os.getcwd()` and `os.chdir()` do?\n",
    "   Answer: \n",
    "•\t`os.getcwd()`: This function, part of the Python `os` module, returns the current working directory as a string. It tells you the directory in which your Python script or program is currently running.\n",
    "•\t`os.chdir(path)`: This function changes the current working directory to the specified `path`. It allows you to navigate and operate in different directories within your Python script.\n"
   ]
  },
  {
   "cell_type": "markdown",
   "id": "8bbdaa24",
   "metadata": {},
   "source": [
    "## 4. What are the \".\" and \"..\" folders?\n",
    "   Answer: In file systems, \".\" and \"..\" are special directory names.\n",
    "•\t\".\" (dot) represents the current directory. It is used to refer to the directory\n",
    "you are currently in.\n",
    "•\t\"..\" (double-dot) represents the parent directory. It is used to refer to the\n",
    "directory one level up from the current directory.\n"
   ]
  },
  {
   "cell_type": "markdown",
   "id": "2cbfb49d",
   "metadata": {},
   "source": [
    "## 5. In C:\\bacon\\eggs\\spam.txt, which part is the dir name, and which part is the base name?\n",
    "   Answer: In the path \"C:\\bacon\\eggs\\spam.txt\":\n",
    "•\t\"C:\\bacon\\eggs\" is the directory name (dir name).\n",
    "•\t\"spam.txt\" is the base name (file name).\n"
   ]
  },
  {
   "cell_type": "markdown",
   "id": "46a636ef",
   "metadata": {},
   "source": [
    "# 6. What are the three “mode” arguments that can be passed to the `open()` function?\n",
    "   \n",
    " Answer: The three commonly used mode arguments for the `open()` function in Python are:\n",
    " 1: \"r\" (read): Opens the file for reading (default if no mode is specified).\n",
    " 2 \"w\" (write): Opens the file for writing, creating a new file if it doesn't exist or truncating the existing file if it does.\n",
    " 3:\"a\" (append): Opens the file for writing, creating a new file if it doesn't exist or appending to the end of the existing file.\n"
   ]
  },
  {
   "cell_type": "markdown",
   "id": "67a32b82",
   "metadata": {},
   "source": [
    "## 7. What happens if an existing file is opened in write mode?\n",
    "   Answer: If an existing file is opened in write mode (\"w\") using the `open()` function, the file's contents are truncated (completely deleted) and the file is treated as empty. Any data previously in the file will be lost, and the file is ready to accept new data.\n"
   ]
  },
  {
   "cell_type": "markdown",
   "id": "8823cf6a",
   "metadata": {},
   "source": [
    "## 8. How do you tell the difference between `read()` and `readlines()`?\n",
    "   Answer: \n",
    "•\t`read()`: This method reads the entire contents of a file as a single string or a specified number of characters (bytes) if a size argument is provided. It returns a string.\n",
    "•\t`readlines()`: This method reads the file line by line and returns a list of strings, where each string represents a line from the file. It reads until the end of the file or until a specified size if provided.\n"
   ]
  },
  {
   "cell_type": "markdown",
   "id": "cdb441d4",
   "metadata": {},
   "source": [
    "# 9. What data structure does a shelf value resemble?\n",
    "Answer: A shelf value in Python resembles a dictionary-like data structure. It is provided by the `shelve` module and behaves similarly to a dictionary, allowing you to store and retrieve key-value pairs. Shelve values can be used to persistently store data on disk, making them useful for saving and retrieving data between program runs.\n"
   ]
  },
  {
   "cell_type": "code",
   "execution_count": null,
   "id": "a0058718",
   "metadata": {},
   "outputs": [],
   "source": []
  },
  {
   "cell_type": "code",
   "execution_count": null,
   "id": "8f4ccd95",
   "metadata": {},
   "outputs": [],
   "source": []
  },
  {
   "cell_type": "code",
   "execution_count": null,
   "id": "1c966a6c",
   "metadata": {},
   "outputs": [],
   "source": []
  },
  {
   "cell_type": "code",
   "execution_count": null,
   "id": "c0e0462b",
   "metadata": {},
   "outputs": [],
   "source": []
  },
  {
   "cell_type": "code",
   "execution_count": null,
   "id": "d13e796d",
   "metadata": {},
   "outputs": [],
   "source": []
  },
  {
   "cell_type": "code",
   "execution_count": null,
   "id": "50968f95",
   "metadata": {},
   "outputs": [],
   "source": []
  },
  {
   "cell_type": "code",
   "execution_count": null,
   "id": "2c98d38b",
   "metadata": {},
   "outputs": [],
   "source": []
  },
  {
   "cell_type": "code",
   "execution_count": null,
   "id": "75cc2e88",
   "metadata": {},
   "outputs": [],
   "source": []
  },
  {
   "cell_type": "code",
   "execution_count": null,
   "id": "52a296dc",
   "metadata": {},
   "outputs": [],
   "source": []
  }
 ],
 "metadata": {
  "kernelspec": {
   "display_name": "Python 3 (ipykernel)",
   "language": "python",
   "name": "python3"
  },
  "language_info": {
   "codemirror_mode": {
    "name": "ipython",
    "version": 3
   },
   "file_extension": ".py",
   "mimetype": "text/x-python",
   "name": "python",
   "nbconvert_exporter": "python",
   "pygments_lexer": "ipython3",
   "version": "3.9.12"
  }
 },
 "nbformat": 4,
 "nbformat_minor": 5
}
